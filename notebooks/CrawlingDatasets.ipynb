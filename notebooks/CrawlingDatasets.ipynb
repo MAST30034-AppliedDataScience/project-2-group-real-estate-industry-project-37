{
 "cells": [
  {
   "cell_type": "markdown",
   "metadata": {},
   "source": [
    "# Crawling Domain Datasets"
   ]
  },
  {
   "cell_type": "markdown",
   "metadata": {},
   "source": [
    "## Load Library"
   ]
  },
  {
   "cell_type": "code",
   "execution_count": 2,
   "metadata": {},
   "outputs": [],
   "source": [
    "import requests\n",
    "from bs4 import BeautifulSoup\n",
    "import csv"
   ]
  },
  {
   "cell_type": "markdown",
   "metadata": {},
   "source": [
    "## Crawling Domain Website"
   ]
  },
  {
   "cell_type": "code",
   "execution_count": 5,
   "metadata": {},
   "outputs": [
    {
     "name": "stdout",
     "output_type": "stream",
     "text": [
      "['https://www.domain.com.au/rent/vic/', 'https://www.domain.com.au/rent/vic/&page=2', 'https://www.domain.com.au/rent/vic/&page=3', 'https://www.domain.com.au/rent/vic/&page=4', 'https://www.domain.com.au/rent/vic/&page=5']\n"
     ]
    }
   ],
   "source": [
    "# Define the Initial URL of Domain\n",
    "base_url = 'https://www.domain.com.au/rent/vic/'\n",
    "headers = {\n",
    "    'User-Agent': 'Mozilla/5.0 (Windows NT 10.0; Win64; x64) AppleWebKit/537.36 (KHTML, like Gecko) Chrome/91.0.4472.124 Safari/537.36'\n",
    "}\n",
    "\n",
    "# Assume the number of pages to traverse\n",
    "max_pages = 5\n",
    "\n",
    "# The list to Store all URLs\n",
    "page_urls = []\n",
    "\n",
    "# Traverse all pages\n",
    "for page_number in range(1, max_pages + 1):\n",
    "    if page_number == 1:\n",
    "        page_url = base_url\n",
    "    else:\n",
    "        page_url = f\"{base_url}&page={page_number}\"\n",
    "    page_urls.append(page_url)\n",
    "\n",
    "print(page_urls)\n"
   ]
  },
  {
   "cell_type": "code",
   "execution_count": 6,
   "metadata": {},
   "outputs": [
    {
     "name": "stdout",
     "output_type": "stream",
     "text": [
      "['https://www.domain.com.au/31-154-rathmines-road-hawthorn-east-vic-3123-17245256', 'https://www.domain.com.au/406-422-collins-street-melbourne-vic-3000-17245214', 'https://www.domain.com.au/2008-65-dudley-street-west-melbourne-vic-3003-17245191', 'https://www.domain.com.au/4-798-warrigal-road-malvern-east-vic-3145-15783166', 'https://www.domain.com.au/6a-victoria-street-st-kilda-vic-3182-17245062', 'https://www.domain.com.au/53-marriage-road-brighton-east-vic-3187-17245034', 'https://www.domain.com.au/8-orford-street-moonee-ponds-vic-3039-17245022', 'https://www.domain.com.au/32-bridport-street-south-melbourne-vic-3205-17244999', 'https://www.domain.com.au/709-480-riversdale-road-hawthorn-vic-3122-17244953', 'https://www.domain.com.au/2316-65-dudley-street-west-melbourne-vic-3003-17244942', 'https://www.domain.com.au/310-408-lonsdale-street-melbourne-vic-3000-16040182', 'https://www.domain.com.au/102-35-spring-street-melbourne-vic-3000-17244878', 'https://www.domain.com.au/205e-93-119-kavanagh-street-southbank-vic-3006-17244839', 'https://www.domain.com.au/305b-21-inkerman-street-st-kilda-vic-3182-17244837', 'https://www.domain.com.au/511-9-dryburgh-street-north-melbourne-vic-3051-17244836', 'https://www.domain.com.au/2-russell-street-prahran-vic-3181-16850732', 'https://www.domain.com.au/604-35-43-dryburgh-street-west-melbourne-vic-3003-17244812', 'https://www.domain.com.au/3-37-hope-street-south-yarra-vic-3141-17244810', 'https://www.domain.com.au/1-18-normanby-street-hughesdale-vic-3166-17244749', 'https://www.domain.com.au/101-springs-road-clayton-south-vic-3169-17244747']\n"
     ]
    }
   ],
   "source": [
    "# Initializes a list to store all property links\n",
    "property_list = []\n",
    "\n",
    "# Iterate through each page's pagination links\n",
    "for page_url in page_urls:\n",
    "    page = requests.get(page_url, headers=headers)\n",
    "    soup = BeautifulSoup(page.text, 'html.parser')\n",
    "    listings = soup.find_all('li', class_=\"css-1qp9106\")\n",
    "    \n",
    "    # Find the listing link and add them to the property_list\n",
    "    for listing in listings:\n",
    "        property_link = listing.find('a', href=True)\n",
    "        if property_link:\n",
    "            property_url = property_link['href']\n",
    "            if property_url.startswith('/'):\n",
    "                property_url = 'https://www.domain.com.au' + property_url\n",
    "            property_list.append(property_url)\n",
    "\n",
    "\n",
    "print(property_list)"
   ]
  },
  {
   "cell_type": "code",
   "execution_count": 7,
   "metadata": {},
   "outputs": [
    {
     "name": "stdout",
     "output_type": "stream",
     "text": [
      "{'URL': 'https://www.domain.com.au/31-154-rathmines-road-hawthorn-east-vic-3123-17245256', 'Price': '$570.00', 'Address': '31/154 Rathmines Road, Hawthorn East VIC 3123', 'Beds': '2 Beds', 'Baths': '1 Bath', 'Parking': '2 Parking'}\n",
      "{'URL': 'https://www.domain.com.au/406-422-collins-street-melbourne-vic-3000-17245214', 'Price': '$575 per week', 'Address': '406/422 Collins Street, Melbourne VIC 3000', 'Beds': '2 Beds', 'Baths': '1 Bath', 'Parking': '− Parking'}\n",
      "{'URL': 'https://www.domain.com.au/2008-65-dudley-street-west-melbourne-vic-3003-17245191', 'Price': '$630 per Week', 'Address': '2008/65 Dudley Street, West Melbourne VIC 3003', 'Beds': '1 Bed', 'Baths': '1 Bath', 'Parking': '− Parking'}\n",
      "{'URL': 'https://www.domain.com.au/4-798-warrigal-road-malvern-east-vic-3145-15783166', 'Price': '$350', 'Address': '4/798 Warrigal Road, Malvern East VIC 3145', 'Beds': '1 Bed', 'Baths': '1 Bath', 'Parking': '1 Parking'}\n",
      "{'URL': 'https://www.domain.com.au/6a-victoria-street-st-kilda-vic-3182-17245062', 'Price': '$750 pw', 'Address': '6A Victoria Street, St Kilda VIC 3182', 'Beds': '1 Bed', 'Baths': '1 Bath', 'Parking': '1 Parking'}\n",
      "{'URL': 'https://www.domain.com.au/53-marriage-road-brighton-east-vic-3187-17245034', 'Price': '$1,550.00', 'Address': '53 Marriage Road, Brighton East VIC 3187', 'Beds': '4 Beds', 'Baths': '3 Baths', 'Parking': '2 Parking'}\n",
      "{'URL': 'https://www.domain.com.au/8-orford-street-moonee-ponds-vic-3039-17245022', 'Price': '$800 per week', 'Address': '8 Orford Street, Moonee Ponds VIC 3039', 'Beds': '3 Beds', 'Baths': '2 Baths', 'Parking': '2 Parking'}\n",
      "{'URL': 'https://www.domain.com.au/32-bridport-street-south-melbourne-vic-3205-17244999', 'Price': '$695.00', 'Address': '32 Bridport Street, South Melbourne VIC 3205', 'Beds': '2 Beds', 'Baths': '1 Bath', 'Parking': '− Parking'}\n",
      "{'URL': 'https://www.domain.com.au/709-480-riversdale-road-hawthorn-vic-3122-17244953', 'Price': '$475.00', 'Address': '709/480 Riversdale Road, Hawthorn VIC 3122', 'Beds': '1 Bed', 'Baths': '1 Bath', 'Parking': '1 Parking'}\n",
      "{'URL': 'https://www.domain.com.au/2316-65-dudley-street-west-melbourne-vic-3003-17244942', 'Price': '$730 per Week', 'Address': '2316/65 Dudley Street, West Melbourne VIC 3003', 'Beds': '2 Beds', 'Baths': '2 Baths', 'Parking': '1 Parking'}\n",
      "{'URL': 'https://www.domain.com.au/310-408-lonsdale-street-melbourne-vic-3000-16040182', 'Price': '$390', 'Address': '310/408 Lonsdale Street, Melbourne VIC 3000', 'Beds': '1 Bed', 'Baths': '1 Bath', 'Parking': '− Parking'}\n",
      "{'URL': 'https://www.domain.com.au/102-35-spring-street-melbourne-vic-3000-17244878', 'Price': '$2000 per week', 'Address': '102/35 Spring Street, Melbourne VIC 3000', 'Beds': '3 Beds', 'Baths': '2 Baths', 'Parking': '2 Parking'}\n",
      "{'URL': 'https://www.domain.com.au/205e-93-119-kavanagh-street-southbank-vic-3006-17244839', 'Price': '$740 pw', 'Address': '205E/93-119 Kavanagh Street, Southbank VIC 3006', 'Beds': '2 Beds', 'Baths': '2 Baths', 'Parking': '− Parking'}\n",
      "{'URL': 'https://www.domain.com.au/305b-21-inkerman-street-st-kilda-vic-3182-17244837', 'Price': '$560 pw', 'Address': '305B/21 Inkerman Street, St Kilda VIC 3182', 'Beds': '1 Bed', 'Baths': '1 Bath', 'Parking': '1 Parking'}\n",
      "{'URL': 'https://www.domain.com.au/511-9-dryburgh-street-north-melbourne-vic-3051-17244836', 'Price': '$550', 'Address': '511/9 Dryburgh Street, North Melbourne VIC 3051', 'Beds': '1 Bed', 'Baths': '1 Bath', 'Parking': '1 Parking'}\n",
      "{'URL': 'https://www.domain.com.au/2-russell-street-prahran-vic-3181-16850732', 'Price': '$1,100', 'Address': '2 Russell Street, Prahran VIC 3181', 'Beds': '3 Beds', 'Baths': '2 Baths', 'Parking': '2 Parking'}\n",
      "{'URL': 'https://www.domain.com.au/604-35-43-dryburgh-street-west-melbourne-vic-3003-17244812', 'Price': '$850 per week', 'Address': '604/35-43 Dryburgh Street, West Melbourne VIC 3003', 'Beds': '2 Beds', 'Baths': '2 Baths', 'Parking': '1 Parking'}\n",
      "{'URL': 'https://www.domain.com.au/3-37-hope-street-south-yarra-vic-3141-17244810', 'Price': '$300 pw', 'Address': '3/37 Hope Street, South Yarra VIC 3141', 'Beds': '2 Beds', 'Baths': '1 Bath', 'Parking': '− Parking'}\n",
      "{'URL': 'https://www.domain.com.au/1-18-normanby-street-hughesdale-vic-3166-17244749', 'Price': '$600 weekly', 'Address': '1/18 Normanby Street, Hughesdale VIC 3166', 'Beds': '2 Beds', 'Baths': '1 Bath', 'Parking': '1 Parking'}\n",
      "{'URL': 'https://www.domain.com.au/101-springs-road-clayton-south-vic-3169-17244747', 'Price': '$650.00', 'Address': '101 Springs Road, Clayton South VIC 3169', 'Beds': '3 Beds', 'Baths': '2 Baths', 'Parking': '6 Parking'}\n"
     ]
    }
   ],
   "source": [
    "# Initialise a list to store the details of each listing\n",
    "property_details = []\n",
    "\n",
    "for property_url in property_list:\n",
    "    page = requests.get(property_url, headers=headers)\n",
    "    soup = BeautifulSoup(page.text, 'html.parser')\n",
    "    \n",
    "    # Extract Rent\n",
    "    price_span = soup.find('div', {'data-testid': 'listing-details__summary-title'}).find('span')\n",
    "    price = price_span.text.strip() if price_span else 'No price found'\n",
    "    \n",
    "    # Extract Address\n",
    "    address_h1 = soup.find('h1', class_=\"css-164r41r\")\n",
    "    address = address_h1.text.strip() if address_h1 else 'No address found'\n",
    "\n",
    "    # Extract the Number of bedrooms, bathrooms and parkings\n",
    "    beds = soup.find('span', {'data-testid': 'property-features-text'}, string=['Bed', 'Beds'])\n",
    "    beds_number = beds.find_previous('span', {'class': 'css-lvv8is'}).text.strip() if beds else 'No beds info'\n",
    "\n",
    "    baths = soup.find('span', {'data-testid': 'property-features-text'}, string=['Bath', 'Baths'])\n",
    "    baths_number = baths.find_previous('span', {'class': 'css-lvv8is'}).text.strip() if baths else 'No baths info'\n",
    "\n",
    "    parking = soup.find('span', {'data-testid': 'property-features-text'}, string='Parking')\n",
    "    parking_number = parking.find_previous('span', {'class': 'css-lvv8is'}).text.strip() if parking else 'No parking info'\n",
    "  \n",
    "    # Store the information into the dictionary\n",
    "    property_info = {\n",
    "        'URL': property_url,\n",
    "        'Price': price,\n",
    "        'Address': address,\n",
    "        'Beds': beds_number,\n",
    "        'Baths': baths_number,\n",
    "        'Parking': parking_number,\n",
    "    }\n",
    "    \n",
    "    property_details.append(property_info)\n",
    "\n",
    "for detail in property_details:\n",
    "    print(detail)"
   ]
  },
  {
   "cell_type": "markdown",
   "metadata": {},
   "source": [
    "## Store in CSV Document"
   ]
  },
  {
   "cell_type": "code",
   "execution_count": 8,
   "metadata": {},
   "outputs": [],
   "source": [
    "# Define Field Names for CSV\n",
    "fieldnames = [\"Price\", \"Address\", \"Beds\", \"Baths\", \"Parking\"]\n",
    "\n",
    "# Create and write into CSV\n",
    "with open(\"../Data/combined_house\", \"w\", newline='', encoding='utf-8') as csvfile:\n",
    "    writer = csv.DictWriter(csvfile, fieldnames=fieldnames)\n",
    "    writer.writeheader()\n",
    "    for property in property_details:\n",
    "        writer.writerow({\"Price\": property[\"Price\"], \"Address\": property[\"Address\"], \"Beds\": property[\"Beds\"], \"Baths\": property[\"Baths\"], \"Parking\": property[\"Parking\"]})"
   ]
  }
 ],
 "metadata": {
  "kernelspec": {
   "display_name": "Python 3",
   "language": "python",
   "name": "python3"
  },
  "language_info": {
   "codemirror_mode": {
    "name": "ipython",
    "version": 3
   },
   "file_extension": ".py",
   "mimetype": "text/x-python",
   "name": "python",
   "nbconvert_exporter": "python",
   "pygments_lexer": "ipython3",
   "version": "3.12.4"
  }
 },
 "nbformat": 4,
 "nbformat_minor": 2
}
