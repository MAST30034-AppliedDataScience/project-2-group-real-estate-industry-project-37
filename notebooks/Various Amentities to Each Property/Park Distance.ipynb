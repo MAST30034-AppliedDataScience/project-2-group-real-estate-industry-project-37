{
 "cells": [
  {
   "cell_type": "code",
   "execution_count": null,
   "metadata": {},
   "outputs": [],
   "source": [
    "Park"
   ]
  },
  {
   "cell_type": "code",
   "execution_count": null,
   "metadata": {},
   "outputs": [],
   "source": [
    "import pandas as pd\n",
    "\n",
    "parks = pd.read_csv('../Project 2/parks_in_victoria.csv')\n",
    "print(parks.head())"
   ]
  },
  {
   "cell_type": "code",
   "execution_count": null,
   "metadata": {},
   "outputs": [],
   "source": [
    "print(len(parks))\n",
    "print(parks.columns)\n",
    "print(parks.head)"
   ]
  },
  {
   "cell_type": "code",
   "execution_count": null,
   "metadata": {},
   "outputs": [],
   "source": [
    "parks['geometry'] = parks.apply(lambda row: Point(row['Longitude'], row['Latitude']), axis=1)"
   ]
  },
  {
   "cell_type": "code",
   "execution_count": null,
   "metadata": {},
   "outputs": [],
   "source": [
    "domain = pd.read_csv('../project 2/updated_domain_with_lat_long.csv')"
   ]
  },
  {
   "cell_type": "code",
   "execution_count": null,
   "metadata": {},
   "outputs": [],
   "source": [
    "from shapely.geometry import Point\n",
    "\n",
    "domain['geometry'] = domain.apply(lambda x: Point((x['Longitude'], x['Latitude'])), axis=1)\n",
    "domain_gdf = gpd.GeoDataFrame(domain, geometry='geometry', crs=\"EPSG:4326\")\n",
    "domain_gdf_valid = domain_gdf[~domain_gdf.is_empty]\n",
    "\n",
    "parks['geometry'] = parks.apply(lambda x: Point((x['Longitude'], x['Latitude'])), axis=1)\n",
    "parks_gdf = gpd.GeoDataFrame(parks, geometry='geometry', crs=\"EPSG:4326\")\n",
    "\n",
    "domain_gdf_valid_3857 = domain_gdf_valid.to_crs(epsg=3857)\n",
    "parks_gdf_3857 = parks_gdf.to_crs(epsg=3857)\n",
    "\n",
    "domain_gdf_with_park = gpd.sjoin_nearest(domain_gdf_valid_3857, parks_gdf_3857, how='left', max_distance=1500)\n",
    "\n",
    "\n",
    "domain_gdf_with_park['has_park_nearby'] = domain_gdf_with_park['Name'].notnull()\n",
    "true_nearby_parks = domain_gdf_with_park[domain_gdf_with_park['has_park_nearby'] == True]\n",
    "\n",
    "print(true_nearby_parks.columns)\n",
    "print(true_nearby_parks.head)"
   ]
  },
  {
   "cell_type": "code",
   "execution_count": null,
   "metadata": {},
   "outputs": [],
   "source": [
    "true_nearby_parks.head()"
   ]
  },
  {
   "cell_type": "code",
   "execution_count": null,
   "metadata": {},
   "outputs": [],
   "source": [
    "true_nearby_parks_cleaned = true_nearby_parks.drop_duplicates()"
   ]
  },
  {
   "cell_type": "code",
   "execution_count": null,
   "metadata": {},
   "outputs": [],
   "source": [
    "import googlemaps\n",
    "\n",
    "# Initialize the Google Maps client with your API key\n",
    "gmaps = googlemaps.Client(key='Your Key')\n",
    "\n",
    "def calculate_driving_distance(row):\n",
    "\n",
    "    apartment_coords = f\"{row['Latitude_left']},{row['Longitude_left']}\"\n",
    "    parks_coords = f\"{row['Latitude_right']},{row['Longitude_right']}\"\n",
    "    \n",
    "    try:\n",
    "        result = gmaps.distance_matrix(apartment_coords, parks_coords, mode='driving')\n",
    "        distance_meters = result['rows'][0]['elements'][0]['distance']['value'] \n",
    "        distance_km = distance_meters / 1000  \n",
    "        return distance_km\n",
    "    except Exception as e:\n",
    "        print(f\"Error calculating distance for {row['Address_left']}: {e}\")\n",
    "        return None\n",
    "\n",
    "# Apply the function to each row to calculate the driving distance from the apartment to the mall\n",
    "true_nearby_parks_cleaned['distance_to_park'] = true_nearby_parks_cleaned.apply(calculate_driving_distance, axis=1)\n",
    "\n",
    "# Display updated DataFrame with address and driving distance to nearest mall\n",
    "print(true_nearby_parks_cleaned[['Address_left', 'distance_to_park']].head())"
   ]
  },
  {
   "cell_type": "code",
   "execution_count": null,
   "metadata": {},
   "outputs": [],
   "source": [
    "import matplotlib.pyplot as plt\n",
    "\n",
    "plt.figure(figsize=(10, 6))\n",
    "plt.hist(true_nearby_parks_cleaned['distance_to_park'], bins=30, edgecolor='black')\n",
    "\n",
    "plt.title('Distribution of Distance to park', fontsize=15)\n",
    "plt.xlabel('Distance to malls (km)', fontsize=12)\n",
    "plt.ylabel('Frequency', fontsize=12)\n",
    "plt.show()"
   ]
  },
  {
   "cell_type": "code",
   "execution_count": null,
   "metadata": {},
   "outputs": [],
   "source": [
    "correlation = true_nearby_parks_cleaned[['Weekly Price', 'distance_to_park']].corr()\n",
    "\n",
    "print(\"Correlation between Weekly Price and Distance to Train:\")\n",
    "print(correlation)"
   ]
  },
  {
   "cell_type": "code",
   "execution_count": null,
   "metadata": {},
   "outputs": [],
   "source": [
    "house_data = true_nearby_parks_cleaned[true_nearby_parks_cleaned['Type'] != 'Apartment']\n",
    "\n",
    "correlation_house = house_data[['Weekly Price', 'distance_to_park']].corr()\n",
    "\n",
    "print(\"Correlation between Weekly Price and Distance to Train:\")\n",
    "print(correlation_house)"
   ]
  }
 ],
 "metadata": {
  "kernelspec": {
   "display_name": "Python 3.9.6 64-bit",
   "language": "python",
   "name": "python3"
  },
  "language_info": {
   "codemirror_mode": {
    "name": "ipython",
    "version": 3
   },
   "file_extension": ".py",
   "mimetype": "text/x-python",
   "name": "python",
   "nbconvert_exporter": "python",
   "pygments_lexer": "ipython3",
   "version": "3.9.6"
  },
  "orig_nbformat": 4,
  "vscode": {
   "interpreter": {
    "hash": "31f2aee4e71d21fbe5cf8b01ff0e069b9275f58929596ceb00d14d90e3e16cd6"
   }
  }
 },
 "nbformat": 4,
 "nbformat_minor": 2
}
