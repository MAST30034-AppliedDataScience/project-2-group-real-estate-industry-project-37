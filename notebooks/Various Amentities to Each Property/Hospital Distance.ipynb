{
 "cells": [
  {
   "cell_type": "markdown",
   "metadata": {},
   "source": [
    " Hospital"
   ]
  },
  {
   "cell_type": "code",
   "execution_count": 18,
   "metadata": {},
   "outputs": [
    {
     "name": "stderr",
     "output_type": "stream",
     "text": [
      "/Users/liupeilin/Library/Python/3.9/lib/python/site-packages/urllib3/__init__.py:35: NotOpenSSLWarning: urllib3 v2 only supports OpenSSL 1.1.1+, currently the 'ssl' module is compiled with 'LibreSSL 2.8.3'. See: https://github.com/urllib3/urllib3/issues/3020\n",
      "  warnings.warn(\n"
     ]
    },
    {
     "name": "stdout",
     "output_type": "stream",
     "text": [
      "                                        Address_left  distance_to_mall\n",
      "4      123 Mossfiel Drive, Hoppers Crossing VIC 3029             2.119\n",
      "5                  45 South Street, Belmont VIC 3216             1.190\n",
      "8  317 Armstrong Street North, Soldiers Hill VIC ...             0.217\n",
      "8  317 Armstrong Street North, Soldiers Hill VIC ...             0.217\n",
      "9             16 Barcelona Street, Box Hill VIC 3128             1.467\n"
     ]
    },
    {
     "name": "stderr",
     "output_type": "stream",
     "text": [
      "/Users/liupeilin/Library/Python/3.9/lib/python/site-packages/geopandas/geodataframe.py:1819: SettingWithCopyWarning: \n",
      "A value is trying to be set on a copy of a slice from a DataFrame.\n",
      "Try using .loc[row_indexer,col_indexer] = value instead\n",
      "\n",
      "See the caveats in the documentation: https://pandas.pydata.org/pandas-docs/stable/user_guide/indexing.html#returning-a-view-versus-a-copy\n",
      "  super().__setitem__(key, value)\n"
     ]
    }
   ],
   "source": [
    "import googlemaps\n",
    "\n",
    "gmaps = googlemaps.Client(key='Your Key')\n",
    "\n",
    "def calculate_driving_distance(row):\n",
    "\n",
    "    apartment_coords = f\"{row['Latitude_left']},{row['Longitude_left']}\"\n",
    "    \n",
    "  \n",
    "    mall_coords = f\"{row['Mall_Latitude']},{row['Mall_Longitude']}\"\n",
    "\n",
    "    try:\n",
    "        result = gmaps.distance_matrix(apartment_coords, mall_coords, mode='driving')\n",
    "        distance_meters = result['rows'][0]['elements'][0]['distance']['value']  \n",
    "        distance_km = distance_meters / 1000 \n",
    "        return distance_km\n",
    "    except Exception as e:\n",
    "        print(f\"Error calculating distance for {row['Address_left']}: {e}\")\n",
    "        return None\n",
    "\n",
    "true_nearby_shopping['distance_to_mall'] = true_nearby_shopping.apply(calculate_driving_distance, axis=1)\n",
    "\n",
    "print(true_nearby_shopping[['Address_left', 'distance_to_mall']].head())"
   ]
  },
  {
   "cell_type": "code",
   "execution_count": 20,
   "metadata": {},
   "outputs": [
    {
     "data": {
      "text/plain": [
       "4        2.119\n",
       "5        1.190\n",
       "8        0.217\n",
       "8        0.217\n",
       "9        1.467\n",
       "         ...  \n",
       "13441    1.473\n",
       "13441    1.473\n",
       "13441    1.473\n",
       "13441    1.473\n",
       "13441    1.473\n",
       "Name: distance_to_mall, Length: 17869, dtype: float64"
      ]
     },
     "execution_count": 20,
     "metadata": {},
     "output_type": "execute_result"
    }
   ],
   "source": [
    "true_nearby_shopping['distance_to_mall']"
   ]
  },
  {
   "cell_type": "code",
   "execution_count": 22,
   "metadata": {},
   "outputs": [
    {
     "data": {
      "image/png": "[encoded data removed]",
      "text/plain": [
       "<Figure size 1000x600 with 1 Axes>"
      ]
     },
     "metadata": {},
     "output_type": "display_data"
    }
   ],
   "source": [
    "import matplotlib.pyplot as plt\n",
    "\n",
    "# Generate a histogram showing the distribution of the distance_to_train columns\n",
    "plt.figure(figsize=(10, 6))\n",
    "plt.hist(true_nearby_shopping['distance_to_mall'], bins=30, edgecolor='black')\n",
    "\n",
    "# Add a title and tag\n",
    "plt.title('Distribution of Distance to hospital', fontsize=15)\n",
    "plt.xlabel('Distance to malls (km)', fontsize=12)\n",
    "plt.ylabel('Frequency', fontsize=12)\n",
    "\n",
    "# display graph\n",
    "plt.show()\n"
   ]
  },
  {
   "cell_type": "code",
   "execution_count": 27,
   "metadata": {},
   "outputs": [
    {
     "name": "stdout",
     "output_type": "stream",
     "text": [
      "Correlation between Weekly Price and Distance to hospital:\n",
      "                  Weekly Price  distance_to_mall\n",
      "Weekly Price          1.000000          0.076577\n",
      "distance_to_mall      0.076577          1.000000\n"
     ]
    }
   ],
   "source": [
    "correlation = true_nearby_shopping[['Weekly Price', 'distance_to_mall']].corr()\n",
    "\n",
    "print(\"Correlation between Weekly Price and Distance to hospital:\")\n",
    "print(correlation)\n",
    "\n",
    "# Filter out data with Type 'Apartment'\n",
    "apartment_data = true_nearby_shopping[true_nearby_shopping['Type'] == 'Apartment']\n",
    "\n",
    "# calculate correlation\n",
    "correlation_apartment = apartment_data[['Weekly Price', 'distance_to_mall']].corr()\n",
    "\n",
    "print(\"Correlation between Weekly Price and Distance to Train 医院:\")\n",
    "print(correlation_apartment)\n",
    "\n",
    "# Filter out data with Type 'House'\n",
    "house_data = true_nearby_shopping[true_nearby_shopping['Type'] != 'Apartment']\n",
    "correlation_house = house_data[['Weekly Price', 'distance_to_mall']].corr()\n",
    "\n",
    "print(\"Correlation between Weekly Price and Distance to Train 医院:\")\n",
    "print(correlation_house)\n",
    "house_data[['Weekly Price', 'distance_to_mall']].to_csv('distances.csv', index=False)"
   ]
  },
  {
   "cell_type": "code",
   "execution_count": 125,
   "metadata": {},
   "outputs": [
    {
     "name": "stdout",
     "output_type": "stream",
     "text": [
      "Correlation between Weekly Price and Distance to Hospital:\n",
      "                      Weekly Price  distance_to_hospital\n",
      "Weekly Price              1.000000              0.106448\n",
      "distance_to_hospital      0.106448              1.000000\n"
     ]
    }
   ],
   "source": [
    "# Filter out data with Type 'Apartment'\n",
    "apartment_data = true_nearby_shopping[true_nearby_shopping['Type'] == 'Apartment']\n",
    "\n",
    "# Calculate correlation\n",
    "correlation_apartment = apartment_data[['Weekly Price', 'distance_to_mall']].corr()\n",
    "\n",
    "# Rename 'distance_to_mall' to 'distance_to_hospital' for output display\n",
    "correlation_apartment_renamed = correlation_apartment.rename(columns={'distance_to_mall': 'distance_to_hospital'}, index={'distance_to_mall': 'distance_to_hospital'})\n",
    "\n",
    "print(\"Correlation between Weekly Price and Distance to Hospital:\")\n",
    "print(correlation_apartment_renamed)"
   ]
  },
  {
   "cell_type": "code",
   "execution_count": 127,
   "metadata": {},
   "outputs": [
    {
     "name": "stdout",
     "output_type": "stream",
     "text": [
      "Correlation between Weekly Price and Distance to Hospital:\n",
      "                      Weekly Price  distance_to_hospital\n",
      "Weekly Price              1.000000              0.033078\n",
      "distance_to_hospital      0.033078              1.000000\n"
     ]
    }
   ],
   "source": [
    "\n",
    "house_data = true_nearby_shopping[true_nearby_shopping['Type'] != 'Apartment']\n",
    "# Calculate correlation\n",
    "correlation_apartment = house_data[['Weekly Price', 'distance_to_mall']].corr()\n",
    "\n",
    "# Rename 'distance_to_mall' to 'distance_to_hospital' for output display\n",
    "correlation_apartment_renamed = correlation_apartment.rename(columns={'distance_to_mall': 'distance_to_hospital'}, index={'distance_to_mall': 'distance_to_hospital'})\n",
    "\n",
    "print(\"Correlation between Weekly Price and Distance to Hospital:\")\n",
    "print(correlation_apartment_renamed)"
   ]
  }
 ],
 "metadata": {
  "kernelspec": {
   "display_name": "Python 3.10.2 64-bit",
   "language": "python",
   "name": "python3"
  },
  "language_info": {
   "codemirror_mode": {
    "name": "ipython",
    "version": 3
   },
   "file_extension": ".py",
   "mimetype": "text/x-python",
   "name": "python",
   "nbconvert_exporter": "python",
   "pygments_lexer": "ipython3",
   "version": "3.10.2"
  },
  "vscode": {
   "interpreter": {
    "hash": "aee8b7b246df8f9039afb4144a1f6fd8d2ca17a180786b69acc140d282b71a49"
   }
  }
 },
 "nbformat": 4,
 "nbformat_minor": 2
}
