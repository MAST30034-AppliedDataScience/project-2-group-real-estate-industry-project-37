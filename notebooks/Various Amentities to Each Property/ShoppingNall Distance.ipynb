{
 "cells": [
  {
   "cell_type": "markdown",
   "metadata": {},
   "source": [
    "# ShoppingMall Distance"
   ]
  },
  {
   "cell_type": "code",
   "execution_count": 29,
   "metadata": {},
   "outputs": [],
   "source": [
    "import geopandas as gpd\n",
    "import pandas as pd\n",
    "from shapely.geometry import Point"
   ]
  },
  {
   "cell_type": "code",
   "execution_count": 30,
   "metadata": {},
   "outputs": [],
   "source": [
    "shopping_mall = pd.read_csv('../../ADS ASS2/Data/shopping_malls.csv')\n",
    "apartment_data = pd.read_csv('../../ADS ASS2/Data/updated_domain_with_lat_long.csv')"
   ]
  },
  {
   "cell_type": "code",
   "execution_count": 31,
   "metadata": {},
   "outputs": [
    {
     "name": "stdout",
     "output_type": "stream",
     "text": [
      "641\n",
      "Index(['Name', 'Address', 'Longitude', 'Latitude'], dtype='object')\n",
      "<bound method NDFrame.head of                            Name                                       Address  \\\n",
      "0           Westfield Doncaster                 619 Doncaster Road, Doncaster   \n",
      "1           Greensborough Plaza                 25 Main Street, Greensborough   \n",
      "2       Westfield Fountain Gate            25/55 Overland Drive, Narre Warren   \n",
      "3        South Melbourne Market      322-326 Coventry Street, South Melbourne   \n",
      "4                 DFO Moorabbin  250 Centre Dandenong Road, Moorabbin Airport   \n",
      "..                          ...                                           ...   \n",
      "636             Backhaus Arcade                314 Lyttleton Terrace, Bendigo   \n",
      "637               Abbott Arcade                       7 Queen Street, Bendigo   \n",
      "638               Epsom Village                       22 Howard Street, Epsom   \n",
      "639  Bendigo Showgrounds Market                    Holmes Road, North Bendigo   \n",
      "640                 COLBINABBIN                          34 C345, Colbinabbin   \n",
      "\n",
      "      Longitude   Latitude  \n",
      "0    145.125484 -37.786892  \n",
      "1    145.103132 -37.702627  \n",
      "2    145.304262 -38.017570  \n",
      "3    144.955939 -37.832011  \n",
      "4    145.088872 -37.971058  \n",
      "..          ...        ...  \n",
      "636  144.281520 -36.761288  \n",
      "637  144.281531 -36.760719  \n",
      "638  144.318187 -36.704462  \n",
      "639  144.270634 -36.738900  \n",
      "640  144.796111 -36.590449  \n",
      "\n",
      "[641 rows x 4 columns]>\n"
     ]
    }
   ],
   "source": [
    "print(len(shopping_mall))\n",
    "print(shopping_mall.columns)\n",
    "print(shopping_mall.head)"
   ]
  },
  {
   "cell_type": "code",
   "execution_count": 32,
   "metadata": {},
   "outputs": [
    {
     "name": "stdout",
     "output_type": "stream",
     "text": [
      "641\n",
      "                           Name                                       Address  \\\n",
      "0           Westfield Doncaster                 619 Doncaster Road, Doncaster   \n",
      "1           Greensborough Plaza                 25 Main Street, Greensborough   \n",
      "2       Westfield Fountain Gate            25/55 Overland Drive, Narre Warren   \n",
      "3        South Melbourne Market      322-326 Coventry Street, South Melbourne   \n",
      "4                 DFO Moorabbin  250 Centre Dandenong Road, Moorabbin Airport   \n",
      "..                          ...                                           ...   \n",
      "636             Backhaus Arcade                314 Lyttleton Terrace, Bendigo   \n",
      "637               Abbott Arcade                       7 Queen Street, Bendigo   \n",
      "638               Epsom Village                       22 Howard Street, Epsom   \n",
      "639  Bendigo Showgrounds Market                    Holmes Road, North Bendigo   \n",
      "640                 COLBINABBIN                          34 C345, Colbinabbin   \n",
      "\n",
      "     Mall_Longitude  Mall_Latitude  \n",
      "0        145.125484     -37.786892  \n",
      "1        145.103132     -37.702627  \n",
      "2        145.304262     -38.017570  \n",
      "3        144.955939     -37.832011  \n",
      "4        145.088872     -37.971058  \n",
      "..              ...            ...  \n",
      "636      144.281520     -36.761288  \n",
      "637      144.281531     -36.760719  \n",
      "638      144.318187     -36.704462  \n",
      "639      144.270634     -36.738900  \n",
      "640      144.796111     -36.590449  \n",
      "\n",
      "[641 rows x 4 columns]\n"
     ]
    }
   ],
   "source": [
    "shopping_mall.rename(columns={\n",
    "    'Longitude': 'Mall_Longitude',\n",
    "    'Latitude': 'Mall_Latitude'\n",
    "}, inplace=True)\n",
    "\n",
    "print(len(shopping_mall))\n",
    "print(shopping_mall)"
   ]
  },
  {
   "cell_type": "code",
   "execution_count": 33,
   "metadata": {},
   "outputs": [
    {
     "name": "stdout",
     "output_type": "stream",
     "text": [
      "13453\n"
     ]
    }
   ],
   "source": [
    "print(len(apartment_data))"
   ]
  },
  {
   "cell_type": "markdown",
   "metadata": {},
   "source": [
    "## Calculate the ShoppingMall Distance"
   ]
  },
  {
   "cell_type": "code",
   "execution_count": 36,
   "metadata": {},
   "outputs": [
    {
     "name": "stdout",
     "output_type": "stream",
     "text": [
      "13453\n",
      "   index          Price                                   Address_left  Beds  \\\n",
      "0      0  $270 per week     50 Elmhurst Road, Bayswater North VIC 3153     1   \n",
      "5      1            280        63 Pintail Drive, Melton South VIC 3338     1   \n",
      "6      2            300         8 Jacobena Road, Melton South VIC 3338     1   \n",
      "7      3        $400.00       126 Portarlington Road, Newcomb VIC 3219     3   \n",
      "9      4        $395.00  123 Mossfiel Drive, Hoppers Crossing VIC 3029     3   \n",
      "\n",
      "   Baths  Parking   Type  Weekly Price   Latitude   Longitude  \\\n",
      "0      1        0  House           270 -37.835649  145.264776   \n",
      "5      1        0  House           280 -37.719884  144.580003   \n",
      "6      1        0  House           300 -37.714715  144.565848   \n",
      "7      1        1  House           400 -38.161122  144.399746   \n",
      "9      2        2  House           395 -37.867435  144.690112   \n",
      "\n",
      "                            geometry  index_right                      Name  \\\n",
      "0  POINT (16170800.850 -4556234.531)          585  Allway Matting by MatTek   \n",
      "5  POINT (16094572.335 -4539930.000)          367              Opalia Plaza   \n",
      "6  POINT (16092996.541 -4539202.659)          367              Opalia Plaza   \n",
      "7  POINT (16074506.151 -4602211.947)           91              Bulbs Direct   \n",
      "9  POINT (16106829.546 -4560715.784)          351          Pacific Werribee   \n",
      "\n",
      "                                       Address_right  Mall_Longitude  \\\n",
      "0            factory 2/7-9 Newcastle Road, Bayswater      145.283227   \n",
      "5                        201 Exford Road, Weir Views      144.571370   \n",
      "6                        201 Exford Road, Weir Views      144.571370   \n",
      "7                     244 Portarlington Road, Moolap      144.409972   \n",
      "9  Cnr Derrimut Road &, Heaths Road, Hoppers Cros...      144.680458   \n",
      "\n",
      "   Mall_Latitude  \n",
      "0     -37.842865  \n",
      "5     -37.721984  \n",
      "6     -37.721984  \n",
      "7     -38.163573  \n",
      "9     -37.876934  \n"
     ]
    }
   ],
   "source": [
    "apartment_data['geometry'] = apartment_data.apply(lambda x: Point((x['Longitude'], x['Latitude'])), axis=1)\n",
    "apartment_gdf = gpd.GeoDataFrame(apartment_data, geometry='geometry', crs=\"EPSG:4326\") \n",
    "apartment_gdf_valid = apartment_gdf[~apartment_gdf.is_empty]\n",
    "\n",
    "\n",
    "shopping_mall['geometry'] = shopping_mall.apply(lambda x: Point((x['Mall_Longitude'], x['Mall_Latitude'])), axis=1)\n",
    "mall_gdf = gpd.GeoDataFrame(shopping_mall, geometry='geometry', crs=\"EPSG:4326\")\n",
    "\n",
    "apartment_gdf_valid_3857 = apartment_gdf_valid.to_crs(epsg=3857)\n",
    "mall_gdf_3857 = mall_gdf.to_crs(epsg=3857)\n",
    "\n",
    "apartment_gdf_with_mall = gpd.sjoin_nearest(\n",
    "    apartment_gdf_valid_3857,\n",
    "    mall_gdf_3857,\n",
    "    how='left'\n",
    ")\n",
    "\n",
    "apartment_gdf_with_mall.reset_index(inplace=True)\n",
    "\n",
    "apartment_gdf_with_mall = apartment_gdf_with_mall.sort_values(by='index').drop_duplicates(subset='index', keep='first')\n",
    "\n",
    "print(len(apartment_gdf_with_mall))\n",
    "print(apartment_gdf_with_mall.head())\n"
   ]
  },
  {
   "cell_type": "code",
   "execution_count": 41,
   "metadata": {},
   "outputs": [
    {
     "name": "stdout",
     "output_type": "stream",
     "text": [
      "No distance data available for 5, 6 & 11/18 Gerald Street, Murrumbeena VIC 3163 to 120 Wilson Street, Horsham\n",
      "   index          Price                                   Address_left  Beds  \\\n",
      "0      0  $270 per week     50 Elmhurst Road, Bayswater North VIC 3153     1   \n",
      "5      1            280        63 Pintail Drive, Melton South VIC 3338     1   \n",
      "6      2            300         8 Jacobena Road, Melton South VIC 3338     1   \n",
      "7      3        $400.00       126 Portarlington Road, Newcomb VIC 3219     3   \n",
      "9      4        $395.00  123 Mossfiel Drive, Hoppers Crossing VIC 3029     3   \n",
      "\n",
      "   Baths  Parking   Type  Weekly Price   Latitude   Longitude  \\\n",
      "0      1        0  House           270 -37.835649  145.264776   \n",
      "5      1        0  House           280 -37.719884  144.580003   \n",
      "6      1        0  House           300 -37.714715  144.565848   \n",
      "7      1        1  House           400 -38.161122  144.399746   \n",
      "9      2        2  House           395 -37.867435  144.690112   \n",
      "\n",
      "                            geometry  index_right                      Name  \\\n",
      "0  POINT (16170800.850 -4556234.531)          585  Allway Matting by MatTek   \n",
      "5  POINT (16094572.335 -4539930.000)          367              Opalia Plaza   \n",
      "6  POINT (16092996.541 -4539202.659)          367              Opalia Plaza   \n",
      "7  POINT (16074506.151 -4602211.947)           91              Bulbs Direct   \n",
      "9  POINT (16106829.546 -4560715.784)          351          Pacific Werribee   \n",
      "\n",
      "                                       Address_right  Mall_Longitude  \\\n",
      "0            factory 2/7-9 Newcastle Road, Bayswater      145.283227   \n",
      "5                        201 Exford Road, Weir Views      144.571370   \n",
      "6                        201 Exford Road, Weir Views      144.571370   \n",
      "7                     244 Portarlington Road, Moolap      144.409972   \n",
      "9  Cnr Derrimut Road &, Heaths Road, Hoppers Cros...      144.680458   \n",
      "\n",
      "   Mall_Latitude  distance_to_train  \n",
      "0     -37.842865              3.009  \n",
      "5     -37.721984              1.818  \n",
      "6     -37.721984              1.776  \n",
      "7     -38.163573              2.079  \n",
      "9     -37.876934              2.622  \n"
     ]
    }
   ],
   "source": [
    "import googlemaps\n",
    "def calculate_driving_distance(row):\n",
    "    gmaps = googlemaps.Client(key='YOUR_API_KEY')\n",
    "    apartment_coords = f\"{row['Latitude']},{row['Longitude']}\" \n",
    "    mall_coords = f\"{row['Mall_Latitude']},{row['Mall_Longitude']}\" \n",
    "    \n",
    "    try:\n",
    "        result = gmaps.distance_matrix(apartment_coords, mall_coords, mode='driving')\n",
    "        \n",
    "        if 'distance' in result['rows'][0]['elements'][0]:\n",
    "            distance_meters = result['rows'][0]['elements'][0]['distance']['value']\n",
    "            distance_km = distance_meters / 1000\n",
    "            return distance_km\n",
    "        else:\n",
    "            print(f\"No distance data available for {row['Address_left']} to {row['Address_right']}\")\n",
    "            return None\n",
    "        \n",
    "    except Exception as e:\n",
    "        print(f\"Error calculating distance from {row['Address_left']} to {row['Address_right']}: {e}\")\n",
    "        return None\n",
    "\n",
    "# Apply the function to each row in the DataFrame\n",
    "apartment_gdf_with_mall['distance_to_train'] = apartment_gdf_with_mall.apply(calculate_driving_distance, axis=1)\n",
    "\n",
    "# Display the updated DataFrame\n",
    "print(apartment_gdf_with_mall.head())\n"
   ]
  },
  {
   "cell_type": "code",
   "execution_count": 43,
   "metadata": {},
   "outputs": [],
   "source": [
    "apartment_gdf_with_mall.rename(columns={'distance_to_train': 'distance_to_mall'}, inplace=True)\n",
    "apartment_gdf_with_mall.to_csv('../../ADS ASS2/Data/apartment_with_mall.csv', index=False)"
   ]
  },
  {
   "cell_type": "markdown",
   "metadata": {},
   "source": [
    "## Calculate the Correlations of ShoppingMall"
   ]
  },
  {
   "cell_type": "code",
   "execution_count": 44,
   "metadata": {},
   "outputs": [
    {
     "name": "stdout",
     "output_type": "stream",
     "text": [
      "Correlation between Weekly Price and Distance to Mall:\n",
      "                  Weekly Price  distance_to_mall\n",
      "Weekly Price          1.000000         -0.147185\n",
      "distance_to_mall     -0.147185          1.000000\n"
     ]
    }
   ],
   "source": [
    "apartment_data_mall = apartment_gdf_with_mall[apartment_gdf_with_mall['Type'] == 'Apartment']\n",
    "\n",
    "correlation_apartment = apartment_data_mall[['Weekly Price', 'distance_to_mall']].corr()\n",
    "\n",
    "print(\"Correlation between Weekly Price and Distance to Mall:\")\n",
    "print(correlation_apartment)"
   ]
  },
  {
   "cell_type": "code",
   "execution_count": 46,
   "metadata": {},
   "outputs": [
    {
     "name": "stdout",
     "output_type": "stream",
     "text": [
      "Correlation between Weekly Price and Distance to Mall:\n",
      "                  Weekly Price  distance_to_mall\n",
      "Weekly Price          1.000000         -0.131561\n",
      "distance_to_mall     -0.131561          1.000000\n"
     ]
    }
   ],
   "source": [
    "house_data_mall = apartment_gdf_with_mall[apartment_gdf_with_mall['Type'] != 'Apartment']\n",
    "\n",
    "correlation_house = house_data_mall[['Weekly Price', 'distance_to_mall']].corr()\n",
    "\n",
    "print(\"Correlation between Weekly Price and Distance to Mall:\")\n",
    "print(correlation_house)"
   ]
  }
 ],
 "metadata": {
  "kernelspec": {
   "display_name": "Python 3",
   "language": "python",
   "name": "python3"
  },
  "language_info": {
   "codemirror_mode": {
    "name": "ipython",
    "version": 3
   },
   "file_extension": ".py",
   "mimetype": "text/x-python",
   "name": "python",
   "nbconvert_exporter": "python",
   "pygments_lexer": "ipython3",
   "version": "3.12.4"
  }
 },
 "nbformat": 4,
 "nbformat_minor": 2
}
